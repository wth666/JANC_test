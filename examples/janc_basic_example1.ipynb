{
  "nbformat": 4,
  "nbformat_minor": 0,
  "metadata": {
    "colab": {
      "provenance": [],
      "machine_shape": "hm",
      "gpuType": "A100",
      "collapsed_sections": [
        "1GjWrTaIj1XX",
        "aLrW0-M2Tc3X",
        "caQoW2I-Tllz",
        "FgVm0D3qk-up"
      ],
      "mount_file_id": "14jfi9qv2F8Vm2iZuUekFEN-qVabbawly",
      "authorship_tag": "ABX9TyNEOAhwFHfmmNjHIS4lg1Y2",
      "include_colab_link": true
    },
    "kernelspec": {
      "name": "python3",
      "display_name": "Python 3"
    },
    "language_info": {
      "name": "python"
    },
    "accelerator": "GPU"
  },
  "cells": [
    {
      "cell_type": "markdown",
      "metadata": {
        "id": "view-in-github",
        "colab_type": "text"
      },
      "source": [
        "<a href=\"https://colab.research.google.com/github/JA4S/JANC/blob/main/examples/janc_basic_example1.ipynb\" target=\"_parent\"><img src=\"https://colab.research.google.com/assets/colab-badge.svg\" alt=\"Open In Colab\"/></a>"
      ]
    },
    {
      "cell_type": "markdown",
      "source": [
        "# Install JANC and import relevant libraries"
      ],
      "metadata": {
        "id": "1GjWrTaIj1XX"
      }
    },
    {
      "cell_type": "code",
      "source": [
        "# Copyright © 2025 Haocheng Wen, Faxuan Luo\n",
        "# SPDX-License-Identifier: MIT\n",
        "\n",
        "!pip install git+https://github.com/JA4S/JANC.git\n",
        "!wget https://raw.githubusercontent.com/JA4S/JANC/main/examples/9sp-19r-H2-Air.yaml"
      ],
      "metadata": {
        "id": "JuVfb61NL5Ci"
      },
      "execution_count": null,
      "outputs": []
    },
    {
      "cell_type": "code",
      "source": [
        "from janc.thermodynamics import thermo\n",
        "from janc.solver import solver\n",
        "\n",
        "import jax\n",
        "import jax.numpy as jnp\n",
        "import numpy as np\n",
        "import matplotlib.pyplot as plt\n",
        "from tqdm.auto import tqdm\n",
        "\n",
        "# set JAX to use GPU\n",
        "jax.config.update(\"jax_enable_x64\", True)\n",
        "jax.config.update('jax_platform_name', 'gpu')"
      ],
      "metadata": {
        "id": "3r1b_naNtntN"
      },
      "execution_count": null,
      "outputs": []
    },
    {
      "cell_type": "markdown",
      "source": [
        "# Example : H2-Air Detonation Tube"
      ],
      "metadata": {
        "id": "7UVJcnm7TT6o"
      }
    },
    {
      "cell_type": "markdown",
      "source": [
        "# Set grid"
      ],
      "metadata": {
        "id": "aLrW0-M2Tc3X"
      }
    },
    {
      "cell_type": "code",
      "source": [
        "Lx = 0.05\n",
        "Ly = 0.0125\n",
        "\n",
        "nx = 4000\n",
        "ny = 1000\n",
        "\n",
        "dx = Lx/nx\n",
        "dy = Ly/ny"
      ],
      "metadata": {
        "id": "jfcJtg6_Tc3X"
      },
      "execution_count": null,
      "outputs": []
    },
    {
      "cell_type": "markdown",
      "source": [
        "# Set thermodynamics (thermo & chemical properties) of gas mixture"
      ],
      "metadata": {
        "id": "8WifdxIESx6O"
      }
    },
    {
      "cell_type": "code",
      "source": [
        "thermo_config = {'is_detailed_chemistry':True,\n",
        "        'thermo_model':'nasa7',\n",
        "        'mechanism_diretory':'9sp-19r-H2-Air.yaml'}\n",
        "thermo.set_thermo(thermo_config)"
      ],
      "metadata": {
        "id": "4Q4YW1_LTc3X"
      },
      "execution_count": null,
      "outputs": []
    },
    {
      "cell_type": "markdown",
      "source": [
        "# Set boundary conditions"
      ],
      "metadata": {
        "id": "e3_eKIMbTJoT"
      }
    },
    {
      "cell_type": "code",
      "source": [
        "boundary_config = {'left_boundary':'slip_wall',\n",
        "           'right_boundary':'slip_wall',\n",
        "           'bottom_boundary':'slip_wall',\n",
        "           'up_boundary':'slip_wall'}"
      ],
      "metadata": {
        "id": "KJLHD8GMTNhy"
      },
      "execution_count": null,
      "outputs": []
    },
    {
      "cell_type": "markdown",
      "source": [
        "# Initializations"
      ],
      "metadata": {
        "id": "N1KgTRkjTfgH"
      }
    },
    {
      "cell_type": "code",
      "source": [
        "advance_one_step, rhs = solver.set_solver(thermo_config,boundary_config)\n",
        "#advance_one_step: time advance functions, advance current state one time step dt.\n",
        "#rhs: right-hand side of the Euler-equations: dUdt = rhs,\n",
        "#normally, 【advance_one_step is all you need】. However, when it comes to machine-learning tasks,\n",
        "#rhs can be embedded in a differentiable optimization loop"
      ],
      "metadata": {
        "id": "hTPaf4_dTfgH"
      },
      "execution_count": null,
      "outputs": []
    },
    {
      "cell_type": "code",
      "source": [
        "def initial_conditions():\n",
        "    #nondimensionalize the pressure and tempreature using P0,T0\n",
        "    Penv = 1.0*101325; Tenv = 300; yH2env = 0.028; yO2env = 0.226;\n",
        "    Pignition = 75*101325; Tignition = 3500;\n",
        "    #set the mass fractions for the species (except inert species N2, which leaves 8 species to set)\n",
        "    Yenv = jnp.array([yH2env,yO2env,0,0,0,0,0,0])\n",
        "\n",
        "    #set ignition zone (rectangular shape)\n",
        "    ignition_width = 160\n",
        "    ignition_height = ny\n",
        "    Y_init = jnp.broadcast_to(Yenv[:,None,None],(8,nx,ny))\n",
        "    T_init = jnp.full((1,nx,ny),Tenv)\n",
        "    T_init = T_init.at[:,0:ignition_width,0:ignition_height].set(Tignition)\n",
        "    P_init = jnp.full((1,nx,ny),Penv)\n",
        "    P_init = P_init.at[:,0:ignition_width,0:ignition_height].set(Pignition)\n",
        "    #set ignition zone (circle shape)\n",
        "    temp_x = jnp.linspace(0, nx, nx)\n",
        "    temp_y = jnp.linspace(0, ny, ny)\n",
        "    temp_x, temp_y = jnp.meshgrid(temp_y, temp_x)\n",
        "    radius = ignition_width//2\n",
        "    #three semicircle ignition zone to induce detonation cells\n",
        "    distance_1 = jnp.sqrt((temp_y[None,:,:] - ignition_width)**2 + (temp_x[None,:,:] - ignition_height//4)**2)\n",
        "    distance_2 = jnp.sqrt((temp_y[None,:,:] - ignition_width)**2 + (temp_x[None,:,:] - (ignition_height//4)*2)**2)\n",
        "    distance_3 = jnp.sqrt((temp_y[None,:,:] - ignition_width)**2 + (temp_x[None,:,:] - (ignition_height//4)*3)**2)\n",
        "    mask = (distance_1 <= radius) | (distance_2 <= radius) | (distance_3 <= radius)\n",
        "    T_init = T_init.at[mask].set(Tignition)\n",
        "    P_init = P_init.at[mask].set(Pignition)\n",
        "    #get relevant thermo properties from tempreature and species mass fractions\n",
        "    _,gamma_init,h_init,R_init,_ = thermo.get_thermo(T_init,Y_init)\n",
        "\n",
        "    rho_init = P_init/(R_init*T_init)\n",
        "    E_init = rho_init*h_init - P_init\n",
        "    rhou_init = jnp.zeros((1,nx,ny))\n",
        "    rhov_init = jnp.zeros((1,nx,ny))\n",
        "\n",
        "    #concatenate the conservative variables U, and thermo variables aux(gamma,T)\n",
        "    U_init = jnp.concatenate([rho_init,rhou_init,rhov_init,E_init,rho_init*Y_init],axis=0)\n",
        "    aux_init = jnp.concatenate([gamma_init,T_init],axis=0)\n",
        "    return U_init, aux_init\n",
        "\n",
        "\n",
        "U, aux = initial_conditions()\n",
        "plt.figure(figsize=(12, 3))\n",
        "x = jnp.linspace(0, Lx, nx)\n",
        "y = jnp.linspace(0, Ly, ny)\n",
        "X, Y = jnp.meshgrid(x, y, indexing='ij')\n",
        "\n",
        "#Tempreature Contour (Nondimensionalized)\n",
        "plt.contourf(X, Y, aux[-1], levels=50, cmap='viridis')"
      ],
      "metadata": {
        "id": "39hLp-3TTfgI"
      },
      "execution_count": null,
      "outputs": []
    },
    {
      "cell_type": "markdown",
      "source": [
        "# Main loop of time advance"
      ],
      "metadata": {
        "id": "caQoW2I-Tllz"
      }
    },
    {
      "cell_type": "code",
      "source": [
        "##minimum implementations of 【advance_one_step】:\n",
        "dt = 5e-10\n",
        "nt = 20000\n",
        "field = jnp.concatenate([U,aux],axis=0)\n",
        "for step in tqdm(range(nt),desc=\"progress\", unit=\"step\"):\n",
        "  field = advance_one_step(field,dx,dy,dt)"
      ],
      "metadata": {
        "id": "SMMiF-0-Tll0"
      },
      "execution_count": null,
      "outputs": []
    },
    {
      "cell_type": "markdown",
      "source": [
        "# plot"
      ],
      "metadata": {
        "id": "FgVm0D3qk-up"
      }
    },
    {
      "cell_type": "code",
      "source": [
        "plt.figure(figsize=(10, 4))\n",
        "plt.contourf(X, Y, field[-1], levels=50, cmap='viridis')\n",
        "plt.xlabel('x')\n",
        "plt.ylabel('y')\n",
        "plt.colorbar()\n",
        "plt.tight_layout()\n",
        "plt.axis('equal')\n",
        "plt.show()"
      ],
      "metadata": {
        "id": "WPnrBvYtlAIa"
      },
      "execution_count": null,
      "outputs": []
    }
  ]
}