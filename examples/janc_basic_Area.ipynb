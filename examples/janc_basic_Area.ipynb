{
  "nbformat": 4,
  "nbformat_minor": 0,
  "metadata": {
    "colab": {
      "provenance": [],
      "machine_shape": "hm",
      "gpuType": "T4",
      "collapsed_sections": [
        "0AHa7ppjROqP"
      ],
      "include_colab_link": true
    },
    "kernelspec": {
      "name": "python3",
      "display_name": "Python 3"
    },
    "language_info": {
      "name": "python"
    },
    "accelerator": "GPU",
    "widgets": {
      "application/vnd.jupyter.widget-state+json": {
        "dde524d3626f43f8813afa3036da73a1": {
          "model_module": "@jupyter-widgets/controls",
          "model_name": "HBoxModel",
          "model_module_version": "1.5.0",
          "state": {
            "_dom_classes": [],
            "_model_module": "@jupyter-widgets/controls",
            "_model_module_version": "1.5.0",
            "_model_name": "HBoxModel",
            "_view_count": null,
            "_view_module": "@jupyter-widgets/controls",
            "_view_module_version": "1.5.0",
            "_view_name": "HBoxView",
            "box_style": "",
            "children": [
              "IPY_MODEL_a06c9cabb8f04518b976f04dd8264b04",
              "IPY_MODEL_8f552e5608784cc599fad1718ff4b831",
              "IPY_MODEL_a45665850ee740d5bacfad0f76327994"
            ],
            "layout": "IPY_MODEL_400e42a5410c47e6bccb82d463b291b9"
          }
        },
        "a06c9cabb8f04518b976f04dd8264b04": {
          "model_module": "@jupyter-widgets/controls",
          "model_name": "HTMLModel",
          "model_module_version": "1.5.0",
          "state": {
            "_dom_classes": [],
            "_model_module": "@jupyter-widgets/controls",
            "_model_module_version": "1.5.0",
            "_model_name": "HTMLModel",
            "_view_count": null,
            "_view_module": "@jupyter-widgets/controls",
            "_view_module_version": "1.5.0",
            "_view_name": "HTMLView",
            "description": "",
            "description_tooltip": null,
            "layout": "IPY_MODEL_83195b8165da4992a92014e85b641974",
            "placeholder": "​",
            "style": "IPY_MODEL_9f560b950c35406281246fd438b8957f",
            "value": "progress:   3%"
          }
        },
        "8f552e5608784cc599fad1718ff4b831": {
          "model_module": "@jupyter-widgets/controls",
          "model_name": "FloatProgressModel",
          "model_module_version": "1.5.0",
          "state": {
            "_dom_classes": [],
            "_model_module": "@jupyter-widgets/controls",
            "_model_module_version": "1.5.0",
            "_model_name": "FloatProgressModel",
            "_view_count": null,
            "_view_module": "@jupyter-widgets/controls",
            "_view_module_version": "1.5.0",
            "_view_name": "ProgressView",
            "bar_style": "danger",
            "description": "",
            "description_tooltip": null,
            "layout": "IPY_MODEL_b4ca3983844a45b2b570920817b76098",
            "max": 20000,
            "min": 0,
            "orientation": "horizontal",
            "style": "IPY_MODEL_34dd5f79597e47ef9ff744227d1cfbb2",
            "value": 627
          }
        },
        "a45665850ee740d5bacfad0f76327994": {
          "model_module": "@jupyter-widgets/controls",
          "model_name": "HTMLModel",
          "model_module_version": "1.5.0",
          "state": {
            "_dom_classes": [],
            "_model_module": "@jupyter-widgets/controls",
            "_model_module_version": "1.5.0",
            "_model_name": "HTMLModel",
            "_view_count": null,
            "_view_module": "@jupyter-widgets/controls",
            "_view_module_version": "1.5.0",
            "_view_name": "HTMLView",
            "description": "",
            "description_tooltip": null,
            "layout": "IPY_MODEL_59236b3e446d42b49b8f9400b746b993",
            "placeholder": "​",
            "style": "IPY_MODEL_a0c9815a740742628260dc317809a7a8",
            "value": " 627/20000 [14:22&lt;7:17:32,  1.36s/step]"
          }
        },
        "400e42a5410c47e6bccb82d463b291b9": {
          "model_module": "@jupyter-widgets/base",
          "model_name": "LayoutModel",
          "model_module_version": "1.2.0",
          "state": {
            "_model_module": "@jupyter-widgets/base",
            "_model_module_version": "1.2.0",
            "_model_name": "LayoutModel",
            "_view_count": null,
            "_view_module": "@jupyter-widgets/base",
            "_view_module_version": "1.2.0",
            "_view_name": "LayoutView",
            "align_content": null,
            "align_items": null,
            "align_self": null,
            "border": null,
            "bottom": null,
            "display": null,
            "flex": null,
            "flex_flow": null,
            "grid_area": null,
            "grid_auto_columns": null,
            "grid_auto_flow": null,
            "grid_auto_rows": null,
            "grid_column": null,
            "grid_gap": null,
            "grid_row": null,
            "grid_template_areas": null,
            "grid_template_columns": null,
            "grid_template_rows": null,
            "height": null,
            "justify_content": null,
            "justify_items": null,
            "left": null,
            "margin": null,
            "max_height": null,
            "max_width": null,
            "min_height": null,
            "min_width": null,
            "object_fit": null,
            "object_position": null,
            "order": null,
            "overflow": null,
            "overflow_x": null,
            "overflow_y": null,
            "padding": null,
            "right": null,
            "top": null,
            "visibility": null,
            "width": null
          }
        },
        "83195b8165da4992a92014e85b641974": {
          "model_module": "@jupyter-widgets/base",
          "model_name": "LayoutModel",
          "model_module_version": "1.2.0",
          "state": {
            "_model_module": "@jupyter-widgets/base",
            "_model_module_version": "1.2.0",
            "_model_name": "LayoutModel",
            "_view_count": null,
            "_view_module": "@jupyter-widgets/base",
            "_view_module_version": "1.2.0",
            "_view_name": "LayoutView",
            "align_content": null,
            "align_items": null,
            "align_self": null,
            "border": null,
            "bottom": null,
            "display": null,
            "flex": null,
            "flex_flow": null,
            "grid_area": null,
            "grid_auto_columns": null,
            "grid_auto_flow": null,
            "grid_auto_rows": null,
            "grid_column": null,
            "grid_gap": null,
            "grid_row": null,
            "grid_template_areas": null,
            "grid_template_columns": null,
            "grid_template_rows": null,
            "height": null,
            "justify_content": null,
            "justify_items": null,
            "left": null,
            "margin": null,
            "max_height": null,
            "max_width": null,
            "min_height": null,
            "min_width": null,
            "object_fit": null,
            "object_position": null,
            "order": null,
            "overflow": null,
            "overflow_x": null,
            "overflow_y": null,
            "padding": null,
            "right": null,
            "top": null,
            "visibility": null,
            "width": null
          }
        },
        "9f560b950c35406281246fd438b8957f": {
          "model_module": "@jupyter-widgets/controls",
          "model_name": "DescriptionStyleModel",
          "model_module_version": "1.5.0",
          "state": {
            "_model_module": "@jupyter-widgets/controls",
            "_model_module_version": "1.5.0",
            "_model_name": "DescriptionStyleModel",
            "_view_count": null,
            "_view_module": "@jupyter-widgets/base",
            "_view_module_version": "1.2.0",
            "_view_name": "StyleView",
            "description_width": ""
          }
        },
        "b4ca3983844a45b2b570920817b76098": {
          "model_module": "@jupyter-widgets/base",
          "model_name": "LayoutModel",
          "model_module_version": "1.2.0",
          "state": {
            "_model_module": "@jupyter-widgets/base",
            "_model_module_version": "1.2.0",
            "_model_name": "LayoutModel",
            "_view_count": null,
            "_view_module": "@jupyter-widgets/base",
            "_view_module_version": "1.2.0",
            "_view_name": "LayoutView",
            "align_content": null,
            "align_items": null,
            "align_self": null,
            "border": null,
            "bottom": null,
            "display": null,
            "flex": null,
            "flex_flow": null,
            "grid_area": null,
            "grid_auto_columns": null,
            "grid_auto_flow": null,
            "grid_auto_rows": null,
            "grid_column": null,
            "grid_gap": null,
            "grid_row": null,
            "grid_template_areas": null,
            "grid_template_columns": null,
            "grid_template_rows": null,
            "height": null,
            "justify_content": null,
            "justify_items": null,
            "left": null,
            "margin": null,
            "max_height": null,
            "max_width": null,
            "min_height": null,
            "min_width": null,
            "object_fit": null,
            "object_position": null,
            "order": null,
            "overflow": null,
            "overflow_x": null,
            "overflow_y": null,
            "padding": null,
            "right": null,
            "top": null,
            "visibility": null,
            "width": null
          }
        },
        "34dd5f79597e47ef9ff744227d1cfbb2": {
          "model_module": "@jupyter-widgets/controls",
          "model_name": "ProgressStyleModel",
          "model_module_version": "1.5.0",
          "state": {
            "_model_module": "@jupyter-widgets/controls",
            "_model_module_version": "1.5.0",
            "_model_name": "ProgressStyleModel",
            "_view_count": null,
            "_view_module": "@jupyter-widgets/base",
            "_view_module_version": "1.2.0",
            "_view_name": "StyleView",
            "bar_color": null,
            "description_width": ""
          }
        },
        "59236b3e446d42b49b8f9400b746b993": {
          "model_module": "@jupyter-widgets/base",
          "model_name": "LayoutModel",
          "model_module_version": "1.2.0",
          "state": {
            "_model_module": "@jupyter-widgets/base",
            "_model_module_version": "1.2.0",
            "_model_name": "LayoutModel",
            "_view_count": null,
            "_view_module": "@jupyter-widgets/base",
            "_view_module_version": "1.2.0",
            "_view_name": "LayoutView",
            "align_content": null,
            "align_items": null,
            "align_self": null,
            "border": null,
            "bottom": null,
            "display": null,
            "flex": null,
            "flex_flow": null,
            "grid_area": null,
            "grid_auto_columns": null,
            "grid_auto_flow": null,
            "grid_auto_rows": null,
            "grid_column": null,
            "grid_gap": null,
            "grid_row": null,
            "grid_template_areas": null,
            "grid_template_columns": null,
            "grid_template_rows": null,
            "height": null,
            "justify_content": null,
            "justify_items": null,
            "left": null,
            "margin": null,
            "max_height": null,
            "max_width": null,
            "min_height": null,
            "min_width": null,
            "object_fit": null,
            "object_position": null,
            "order": null,
            "overflow": null,
            "overflow_x": null,
            "overflow_y": null,
            "padding": null,
            "right": null,
            "top": null,
            "visibility": null,
            "width": null
          }
        },
        "a0c9815a740742628260dc317809a7a8": {
          "model_module": "@jupyter-widgets/controls",
          "model_name": "DescriptionStyleModel",
          "model_module_version": "1.5.0",
          "state": {
            "_model_module": "@jupyter-widgets/controls",
            "_model_module_version": "1.5.0",
            "_model_name": "DescriptionStyleModel",
            "_view_count": null,
            "_view_module": "@jupyter-widgets/base",
            "_view_module_version": "1.2.0",
            "_view_name": "StyleView",
            "description_width": ""
          }
        }
      }
    }
  },
  "cells": [
    {
      "cell_type": "markdown",
      "metadata": {
        "id": "view-in-github",
        "colab_type": "text"
      },
      "source": [
        "<a href=\"https://colab.research.google.com/github/wth666/JANC_test/blob/main/examples/janc_basic_Area.ipynb\" target=\"_parent\"><img src=\"https://colab.research.google.com/assets/colab-badge.svg\" alt=\"Open In Colab\"/></a>"
      ]
    },
    {
      "cell_type": "markdown",
      "source": [
        "# Install JANC and import relevant libraries"
      ],
      "metadata": {
        "id": "HTxRJRezd86Y"
      }
    },
    {
      "cell_type": "code",
      "source": [
        "# Copyright © 2025 Haocheng Wen, Faxuan Luo\n",
        "# SPDX-License-Identifier: MIT\n",
        "\n",
        "!pip install git+https://github.com/wth666/JANC_test.git\n",
        "!wget https://raw.githubusercontent.com/JA4S/JANC/main/examples/9sp-19r-H2-Air.yaml"
      ],
      "metadata": {
        "id": "G2CSNbjYd86Y",
        "colab": {
          "base_uri": "https://localhost:8080/"
        },
        "outputId": "f2f80f15-80d1-484f-bdfa-e287c5b34352"
      },
      "execution_count": 9,
      "outputs": [
        {
          "output_type": "stream",
          "name": "stdout",
          "text": [
            "Collecting git+https://github.com/wth666/JANC_test.git\n",
            "  Cloning https://github.com/wth666/JANC_test.git to /tmp/pip-req-build-5yp9ne4n\n",
            "  Running command git clone --filter=blob:none --quiet https://github.com/wth666/JANC_test.git /tmp/pip-req-build-5yp9ne4n\n",
            "  Resolved https://github.com/wth666/JANC_test.git to commit 1375332794f8667a51e3d0d4240b961b7702e0ba\n",
            "  Preparing metadata (setup.py) ... \u001b[?25l\u001b[?25hdone\n",
            "Collecting jaxamr@ git+https://github.com/JA4S/JAX-AMR.git (from janc==0.1)\n",
            "  Cloning https://github.com/JA4S/JAX-AMR.git to /tmp/pip-install-afhxral1/jaxamr_4a33049fa1284b7f86a3124576407814\n",
            "  Running command git clone --filter=blob:none --quiet https://github.com/JA4S/JAX-AMR.git /tmp/pip-install-afhxral1/jaxamr_4a33049fa1284b7f86a3124576407814\n",
            "  Resolved https://github.com/JA4S/JAX-AMR.git to commit b14c2f9d2750dcf00c69edbf990e3e5be57b3ab5\n",
            "  Preparing metadata (setup.py) ... \u001b[?25l\u001b[?25hdone\n",
            "Requirement already satisfied: cantera in /usr/local/lib/python3.11/dist-packages (from janc==0.1) (3.1.0)\n",
            "Requirement already satisfied: numpy<3,>=1.12.0 in /usr/local/lib/python3.11/dist-packages (from cantera->janc==0.1) (2.0.2)\n",
            "Requirement already satisfied: ruamel.yaml>=0.15.34 in /usr/local/lib/python3.11/dist-packages (from cantera->janc==0.1) (0.18.10)\n",
            "Requirement already satisfied: ruamel.yaml.clib>=0.2.7 in /usr/local/lib/python3.11/dist-packages (from ruamel.yaml>=0.15.34->cantera->janc==0.1) (0.2.12)\n",
            "--2025-05-05 08:01:28--  https://raw.githubusercontent.com/JA4S/JANC/main/examples/9sp-19r-H2-Air.yaml\n",
            "Resolving raw.githubusercontent.com (raw.githubusercontent.com)... 185.199.108.133, 185.199.109.133, 185.199.110.133, ...\n",
            "Connecting to raw.githubusercontent.com (raw.githubusercontent.com)|185.199.108.133|:443... connected.\n",
            "HTTP request sent, awaiting response... 200 OK\n",
            "Length: 6331 (6.2K) [text/plain]\n",
            "Saving to: ‘9sp-19r-H2-Air.yaml.5’\n",
            "\n",
            "9sp-19r-H2-Air.yaml 100%[===================>]   6.18K  --.-KB/s    in 0s      \n",
            "\n",
            "2025-05-05 08:01:28 (57.2 MB/s) - ‘9sp-19r-H2-Air.yaml.5’ saved [6331/6331]\n",
            "\n"
          ]
        }
      ]
    },
    {
      "cell_type": "code",
      "source": [
        "from janc.thermodynamics import thermo\n",
        "from janc.solver import solver\n",
        "from janc.preprocess import nondim\n",
        "import jax\n",
        "import jax.numpy as jnp\n",
        "import numpy as np\n",
        "import matplotlib.pyplot as plt\n",
        "from tqdm.auto import tqdm\n",
        "\n",
        "# set JAX to use GPU\n",
        "jax.config.update(\"jax_enable_x64\", True)\n",
        "jax.config.update('jax_platform_name', 'gpu')"
      ],
      "metadata": {
        "id": "SdrAh-kId86Z"
      },
      "execution_count": 5,
      "outputs": []
    },
    {
      "cell_type": "markdown",
      "source": [
        "# Example : H2-Air Premixed RDC"
      ],
      "metadata": {
        "id": "619z8KXoSz66"
      }
    },
    {
      "cell_type": "markdown",
      "source": [
        "# Set nondimension parameters and grid"
      ],
      "metadata": {
        "id": "-l844h4PeGZg"
      }
    },
    {
      "cell_type": "code",
      "source": [
        "#JANC support nondimension calculations\n",
        "#it requires user to define the following reference values:\n",
        "#reference pressure:P0 (Pa)\n",
        "#reference temperature:T0 (K)\n",
        "#reference length:x0 (m)\n",
        "#reference gas constant:R0 (J/(kg·K))\n",
        "\n",
        "#other reference values are automatically computed(【you don't need to define them】), including:\n",
        "#reference density:rho0 (kg/m3)\n",
        "#reference mole mass:M0 (kg/mol)\n",
        "#reference specific internal energy:e0 (J/kg)\n",
        "#reference velocity:u0 (m/s)\n",
        "#reference time:t0 (s)\n",
        "\n",
        "#you can access all the reference values by calling nondim.x, for example, t0 = nondim.t0\n",
        "\n",
        "P0 = 10*101325 #pressure of injection manifold\n",
        "T0 = 300    #tempreature of injection manifold\n",
        "R0 = 369    #gas constant for H2-Air mixture with equivalence ratio 1.0\n",
        "x0 = 0.08    #axial length of the combustor\n",
        "\n",
        "nondim_config = {'P0':P0,\n",
        "          'T0':T0,\n",
        "          'R0':R0,\n",
        "          'x0':x0}\n",
        "nondim.set_nondim(nondim_config)\n",
        "#when using nondimension calculation, make sure every input quantity\n",
        "#is nondimensionalized, 【especially dx, dy and dt】\n",
        "#Besides, any user defined functions, such as boundary conditions and source terms,\n",
        "#【should have both nondimensional inputs and outputs】.\n",
        "\n",
        "Lx = 0.20/x0\n",
        "Ly = 0.08/x0\n",
        "\n",
        "nx = 2000\n",
        "ny = 800\n",
        "\n",
        "dx = Lx/nx\n",
        "dy = Ly/ny\n",
        "\n",
        "x = jnp.linspace(0, Lx, nx)\n",
        "y = jnp.linspace(0, Ly, ny)\n",
        "X, Y = jnp.meshgrid(x, y, indexing='ij')"
      ],
      "metadata": {
        "id": "PHX6HfAeeGZg"
      },
      "execution_count": 6,
      "outputs": []
    },
    {
      "cell_type": "markdown",
      "source": [
        "# Set thermodynamics (thermo & chemical properties) of gas mixture"
      ],
      "metadata": {
        "id": "8WifdxIESx6O"
      }
    },
    {
      "cell_type": "code",
      "source": [
        "thermo_config = {'is_detailed_chemistry':True,\n",
        "        'thermo_model':'nasa7',\n",
        "        'mechanism_diretory':'9sp-19r-H2-Air.yaml'}\n",
        "\n",
        "#JANC thermo libraries are important part of nondimension calculations\n",
        "#therefore, make sure to 【pass nondim_config to set_thermo】\n",
        "#if you called set_nondim before set_thermo, nondim parameters are automatically read by set_thermo\n",
        "#but in-order to prevent your code from execution-order-dependent, pass nondim_config to set_thermo will always be safe.\n",
        "thermo.set_thermo(thermo_config,nondim_config)"
      ],
      "metadata": {
        "id": "wSqjIAd2eZnx"
      },
      "execution_count": 7,
      "outputs": []
    },
    {
      "cell_type": "markdown",
      "source": [
        "# Set boundary conditions"
      ],
      "metadata": {
        "id": "e3_eKIMbTJoT"
      }
    },
    {
      "cell_type": "markdown",
      "source": [
        "Here we present an easy example to implement user-defined boundary conditions.\n",
        "In JANC, implementations of user-defined boudnary conditions are simple,there isn't any .py file to be modified.\n",
        "All you need is to defiend a function right here, with following requirements:"
      ],
      "metadata": {
        "id": "hTqsSS_oheR7"
      }
    },
    {
      "cell_type": "code",
      "source": [
        "#def usr_boundary(U_bd,aux_bd,theta=None):\n",
        "\n",
        "##U_bd and aux_bd is 3 nearest layers of grids to the boundary\n",
        "\n",
        "##for example, if this function is used on right boundary,\n",
        "##the shape of U_bd and aux_bd would be (variable_num,3,ny),(2,3,ny),\n",
        "##which means U_bd = U[:,-3:,:]\n",
        "##if this function is used on bottom boundary,U_bd = U[:,:,0:3]\n",
        "\n",
        "##theta is a pytree (dict) containing any parameters you might need to define your functions\n",
        "\n",
        "##the outputs of this function is 3 layers of ghost cells,\n",
        "##and they should have the same shapes as the inputs\n",
        "#return U, aux\n",
        "\n",
        "\n",
        "##inlet boundary\n",
        "#injection equivalence ratio\n",
        "ratio = 1.0\n",
        "yH2inj = (ratio/8*0.232)/(1 + ratio/8*0.232)\n",
        "yO2inj = 0.232/(1 + ratio/8*0.232)\n",
        "\n",
        "from janc.solver.aux_func import U_to_prim\n",
        "def bottom_boundary(U_bd, aux_bd, theta=None):\n",
        "    #for bottom boundary (injection plane),the shape of U_bd is (flux_num,nx,3)\n",
        "    #aux_bd shape is (2,nx,3), aux_bd[0:1]:gamma, aux_bd[1:2]:Tempreature\n",
        "    #U_bd = U[:,:,0:3]\n",
        "    #In this case, theta contains mass fractions of the injection properllants\n",
        "\n",
        "    U_bd = U_bd/theta['AR'][0:1,:,0:3]\n",
        "\n",
        "    U_in = U_bd[:,:,0:1]\n",
        "    aux_in = aux_bd[:,:,0:1]\n",
        "    rho_in,u_in,v_in,Y_in,p_in,a_in = U_to_prim(U_in,aux_in)\n",
        "    T_in = aux_in[1:2,:,0:1]\n",
        "    gamma_in = aux_in[1:2,:,0:1]\n",
        "    _, _, h_in, R_in, _ = thermo.get_thermo(T_in,Y_in)\n",
        "\n",
        "    #interior pressure < injection pressure: velocity inlet\n",
        "    u_inj = jnp.zeros_like(u_in)\n",
        "    Y_inj = theta['Yinj']\n",
        "    v_inj, T_inj, h_inj, gamma_inj = inj_model(p_in,Y_inj)\n",
        "    R_inj = thermo.get_R(Y_inj)\n",
        "    rho_inj = p_in/(R_inj*T_inj)\n",
        "\n",
        "    #interior pressure >= injection pressure: slip wall\n",
        "    #injection is blocked\n",
        "    mask_block = (p_in >= 1.0)\n",
        "    rho_cor_in = jax.lax.select(mask_block,rho_in,rho_inj)\n",
        "    u_cor_in = jax.lax.select(mask_block,u_in,u_inj)\n",
        "    v_cor_in = jax.lax.select(mask_block,-v_in,v_inj)\n",
        "    T_cor_in = jax.lax.select(mask_block,T_in,T_inj)\n",
        "    p_cor_in = p_in\n",
        "    h_cor_in = jax.lax.select(mask_block,h_in,h_inj)\n",
        "    Y_cor_in = jax.lax.select(jnp.tile(mask_block,(theta['Yinj'].shape[0],1,1)),Y_in,Y_inj)\n",
        "    gamma_cor_in = jax.lax.select(mask_block,gamma_in,gamma_inj)\n",
        "\n",
        "    U_lower_bound_state = jnp.concatenate([rho_cor_in, rho_cor_in * u_cor_in, rho_cor_in * v_cor_in,\n",
        "                        rho_cor_in*h_cor_in - p_cor_in + 0.5 * rho_cor_in * (u_cor_in ** 2 + v_cor_in ** 2),\n",
        "                        rho_cor_in * Y_cor_in], axis=0)\n",
        "    aux_lower_bound_state = jnp.concatenate([gamma_cor_in,T_cor_in], axis=0)\n",
        "\n",
        "    U = jnp.tile(U_lower_bound_state,(1,1,3))\n",
        "    aux = jnp.tile(aux_lower_bound_state,(1,1,3))\n",
        "\n",
        "    U = U*theta['AR'][0:1,:,0:1]\n",
        "\n",
        "    return U, aux\n",
        "\n",
        "\n",
        "#injection model from Fievisohn et al.2017, see https://doi.org/10.2514/1.B36103 for details\n",
        "#this is a pressure feedback function, using pressure from the interior grid to infer the velocity et al.\n",
        "#(like velocity inlet in ANSYS FLUENT)\n",
        "def inj_model(p,Y_inj):\n",
        "    A1 = 1\n",
        "    A3 = 5\n",
        "    A2 = A3-A1\n",
        "    R = thermo.get_R(Y_inj)\n",
        "    gamma = 1.29\n",
        "    C0 = jnp.sqrt(gamma*R*1.0)\n",
        "\n",
        "    M = jnp.zeros_like(p)\n",
        "    P1 = 1.0*(1+(gamma-1)/2*M**2)**(-gamma/(gamma-1))\n",
        "    V1 = M*(1+(gamma-1)/2*M**2)**(-0.5)*C0\n",
        "    MFC = A1*1.0/jnp.sqrt(1.0)*jnp.sqrt(gamma/R)*M*(1+(gamma-1)/2*M**2)**(-(gamma+1)/2/(gamma-1))\n",
        "    A = 0.5\n",
        "    P3 = p\n",
        "    B = gamma/(gamma-1)*P3*A3/MFC\n",
        "    C = -gamma/(gamma-1)*R*1.0\n",
        "    V3 = (-B+jnp.sqrt(B**2-4*A*C))/(2*A)\n",
        "    P2 = (MFC*(V3-V1)-P1*A1+P3*A3)/A2\n",
        "\n",
        "    M1 = jnp.zeros_like(p)\n",
        "    M2 = jnp.ones_like(p)\n",
        "    p_cor = p\n",
        "\n",
        "    for i in range(20):\n",
        "        M = 0.5*(M1+M2)\n",
        "        P1 = 1.0*(1+(gamma-1)/2*M**2)**(-gamma/(gamma-1))\n",
        "        V1 = M*(1+(gamma-1)/2*M**2)**(-0.5)*C0\n",
        "        MFC = A1*1.0/jnp.sqrt(1.0)*jnp.sqrt(gamma/R)*M*(1+(gamma-1)/2*M**2)**(-(gamma+1)/2/(gamma-1))\n",
        "        A = 0.5\n",
        "        B = gamma/(gamma-1)*P3*A3/MFC\n",
        "        C = -gamma/(gamma-1)*R*1.0\n",
        "        V3 = (-B+jnp.sqrt(B**2-4*A*C))/(2*A)\n",
        "        P2 = (MFC*(V3-V1)-P1*A1+P3*A3)/A2\n",
        "\n",
        "        M2 = jax.lax.select(P2>=P1,M,M2)\n",
        "        M1 = jax.lax.select(P2<P1,M,M1)\n",
        "\n",
        "    rho_cor = MFC/V3/A3\n",
        "    v_cor = V3\n",
        "    T_cor = p_cor/(R*rho_cor)\n",
        "    _, gamma, h_cor, _, _ = thermo.get_thermo(T_cor,Y_inj)\n",
        "    return v_cor, T_cor, h_cor, gamma\n",
        "\n",
        "\n",
        "##inlet boundary\n",
        "#injection equivalence ratio\n",
        "ratio = 1.0\n",
        "yH2inj = (ratio/8*0.232)/(1 + ratio/8*0.232)\n",
        "yO2inj = 0.232/(1 + ratio/8*0.232)\n",
        "\n",
        "Yinj = jnp.concatenate([jnp.array([yH2inj,yO2inj]),1e-20*jnp.ones((8-2))],axis=0)\n",
        "Yinj_cor = jnp.expand_dims(Yinj,(1,2))\n",
        "Yinj_cor = jnp.tile(jnp.expand_dims(Yinj,(1,2)),(1,nx+2*3,1))\n",
        "\n",
        "##outlet boundary:pressure_outlet\n",
        "#JANC has built-in pressure_outlet boundary conditions\n",
        "#theta should contain 'Pb' when using pressure_outlet bc.\n",
        "#back pressure\n",
        "Pb = 101325/P0\n",
        "\n",
        "A0 = 1\n",
        "A1 = 2\n",
        "A = (A1-A0)/Ly*Y + A0\n",
        "gradA = jnp.full_like(X, fill_value=(A1-A0)/Ly)\n",
        "AR = jnp.array([A,gradA])\n",
        "\n",
        "\n",
        "theta = {'Yinj': jnp.tile(jnp.expand_dims(Yinj,(1,2)),(1,nx,1)),\n",
        "      'Pb': Pb,\n",
        "      'AR': AR}\n",
        "\n",
        "boundary_config = {'left_boundary':'periodic',\n",
        "           'right_boundary':'periodic',\n",
        "           'bottom_boundary':bottom_boundary,\n",
        "           'up_boundary':'pressure_outlet'}"
      ],
      "metadata": {
        "id": "KJLHD8GMTNhy"
      },
      "execution_count": 50,
      "outputs": []
    },
    {
      "cell_type": "markdown",
      "source": [
        "# Initializations"
      ],
      "metadata": {
        "id": "QozMaGNh9veP"
      }
    },
    {
      "cell_type": "code",
      "source": [
        "thermo_config = {'is_detailed_chemistry':True,\n",
        "         'thermo_model':'nasa7',\n",
        "         'mechanism_diretory':'9sp-19r-H2-Air.yaml'}\n",
        "\n",
        "advance_one_step, rhs = solver.set_solver(thermo_config,boundary_config)\n",
        "#advance_one_step: time advance functions, advance current state one time step dt.\n",
        "#rhs: right-hand side of the Euler-equations: dUdt = rhs,\n",
        "#normally, 【advance_one_step is all you need】. However, when it comes to machine-learning tasks,\n",
        "#rhs can be embedded in a differentiable optimization loop"
      ],
      "metadata": {
        "id": "MnExYIkRZEdD",
        "colab": {
          "base_uri": "https://localhost:8080/"
        },
        "outputId": "7bd89b65-2be9-4451-8800-7df258b5eb1a"
      },
      "execution_count": 51,
      "outputs": [
        {
          "output_type": "stream",
          "name": "stdout",
          "text": [
            "solver is initialized successfully!\n"
          ]
        }
      ]
    },
    {
      "cell_type": "code",
      "source": [
        "def initial_conditions():\n",
        "    Penv = 1*101325/P0; Tenv = 300/T0; yH2env = 0; yO2env = 0.232;\n",
        "    Pignition = 15*101325/P0; Tignition = 3000/T0;\n",
        "    Yenv = jnp.array([yH2env,yO2env,0,0,0,0,0,0])\n",
        "    Yfill = jnp.array([yH2inj,yO2inj,0,0,0,0,0,0])\n",
        "\n",
        "    ignition_width = 108;ignition_height = 288\n",
        "\n",
        "    Y_init = jnp.broadcast_to(Yenv[:,None,None],(8,nx,ny))\n",
        "    Y_fill = jnp.broadcast_to(Yfill[:,None,None],(8, nx//2, ignition_height))\n",
        "    #Y_init = Y_init.at[:, 0:nx//2, 0:ignition_height].set(Y_fill)\n",
        "\n",
        "    T_init = jnp.full((1,nx,ny),Tenv)\n",
        "    #T_init = T_init.at[:,0:ignition_width,0:ignition_height].set(Tignition)\n",
        "\n",
        "    P_init = jnp.full((1,nx,ny),Penv)\n",
        "    #P_init = P_init.at[:,0:ignition_width,0:ignition_height].set(Pignition)\n",
        "\n",
        "    _,gamma_init,h_init,R_init,_ = thermo.get_thermo(T_init,Y_init)\n",
        "\n",
        "    rho_init = P_init/(R_init*T_init)\n",
        "    E_init = rho_init*h_init - P_init\n",
        "    rhou_init = jnp.zeros((1,nx,ny))\n",
        "    rhov_init = jnp.zeros((1,nx,ny))\n",
        "\n",
        "\n",
        "    U_init = jnp.concatenate([rho_init,rhou_init,rhov_init,E_init,rho_init*Y_init],axis=0)\n",
        "    aux_init = jnp.concatenate([gamma_init,T_init],axis=0)\n",
        "    return U_init, aux_init\n",
        "\n",
        "U, aux = initial_conditions()\n",
        "plt.figure(figsize=(10, 4))\n",
        "plt.contourf(X, Y, aux[-1], levels=50, cmap='viridis')\n",
        "plt.colorbar()\n",
        "\n",
        "\n",
        "#print(U[5:6,:,:])\n",
        "U = U*theta['AR'][0:1,:,:]\n",
        "#print(U[5:6,:,:])"
      ],
      "metadata": {
        "id": "iif5sUUAlWlr",
        "colab": {
          "base_uri": "https://localhost:8080/",
          "height": 383
        },
        "outputId": "1b6dc532-7613-4404-b0e3-f3d367440d4c"
      },
      "execution_count": 52,
      "outputs": [
        {
          "output_type": "display_data",
          "data": {
            "text/plain": [
              "<Figure size 1000x400 with 2 Axes>"
            ],
            "image/png": "[encoded data removed]"
          },
          "metadata": {}
        }
      ]
    },
    {
      "cell_type": "markdown",
      "source": [
        "# Set Source Term"
      ],
      "metadata": {
        "id": "OMgsFYKYKRcy"
      }
    },
    {
      "cell_type": "code",
      "source": [
        "def pSource(U,aux,theta=None):\n",
        "    U = U/theta['AR'][0:1,:,:]\n",
        "    rho,u,v,Y,p,a = U_to_prim(U,aux)\n",
        "    p_source = jnp.zeros_like(U)\n",
        "    p_source = p_source.at[2:3,:,:].set(p*theta['AR'][1:2,:,:])\n",
        "    return p_source\n",
        "user_set = {'self_defined_source_terms': pSource}"
      ],
      "metadata": {
        "id": "ATcSUnqOKeQs"
      },
      "execution_count": 53,
      "outputs": []
    },
    {
      "cell_type": "markdown",
      "source": [
        "# Main loop of time advance"
      ],
      "metadata": {
        "id": "Qc1SEZ-3MnDO"
      }
    },
    {
      "cell_type": "code",
      "source": [
        "##minimum implementations of 【advance_one_step】:\n",
        "dt = 5e-9/(nondim.t0)\n",
        "nt = 1000\n",
        "field = jnp.concatenate([U,aux],axis=0)\n",
        "for step in tqdm(range(nt),desc=\"progress\", unit=\"step\"):\n",
        "  field = advance_one_step(field,dx,dy,dt,theta)\n",
        "  fieldVis = field/theta['AR'][0:1,:,:]"
      ],
      "metadata": {
        "id": "0egmsIcg93n1",
        "colab": {
          "base_uri": "https://localhost:8080/",
          "height": 229,
          "referenced_widgets": [
            "dde524d3626f43f8813afa3036da73a1",
            "a06c9cabb8f04518b976f04dd8264b04",
            "8f552e5608784cc599fad1718ff4b831",
            "a45665850ee740d5bacfad0f76327994",
            "400e42a5410c47e6bccb82d463b291b9",
            "83195b8165da4992a92014e85b641974",
            "9f560b950c35406281246fd438b8957f",
            "b4ca3983844a45b2b570920817b76098",
            "34dd5f79597e47ef9ff744227d1cfbb2",
            "59236b3e446d42b49b8f9400b746b993",
            "a0c9815a740742628260dc317809a7a8"
          ]
        },
        "outputId": "77b6e044-0014-4a22-9535-9a130054aac7"
      },
      "execution_count": 54,
      "outputs": [
        {
          "output_type": "display_data",
          "data": {
            "text/plain": [
              "progress:   0%|          | 0/20000 [00:00<?, ?step/s]"
            ],
            "application/vnd.jupyter.widget-view+json": {
              "version_major": 2,
              "version_minor": 0,
              "model_id": "dde524d3626f43f8813afa3036da73a1"
            }
          },
          "metadata": {}
        },
        {
          "output_type": "error",
          "ename": "KeyboardInterrupt",
          "evalue": "",
          "traceback": [
            "\u001b[0;31m---------------------------------------------------------------------------\u001b[0m",
            "\u001b[0;31mKeyboardInterrupt\u001b[0m                         Traceback (most recent call last)",
            "\u001b[0;32m<ipython-input-54-183802a6f275>\u001b[0m in \u001b[0;36m<cell line: 0>\u001b[0;34m()\u001b[0m\n\u001b[1;32m      4\u001b[0m \u001b[0mfield\u001b[0m \u001b[0;34m=\u001b[0m \u001b[0mjnp\u001b[0m\u001b[0;34m.\u001b[0m\u001b[0mconcatenate\u001b[0m\u001b[0;34m(\u001b[0m\u001b[0;34m[\u001b[0m\u001b[0mU\u001b[0m\u001b[0;34m,\u001b[0m\u001b[0maux\u001b[0m\u001b[0;34m]\u001b[0m\u001b[0;34m,\u001b[0m\u001b[0maxis\u001b[0m\u001b[0;34m=\u001b[0m\u001b[0;36m0\u001b[0m\u001b[0;34m)\u001b[0m\u001b[0;34m\u001b[0m\u001b[0;34m\u001b[0m\u001b[0m\n\u001b[1;32m      5\u001b[0m \u001b[0;32mfor\u001b[0m \u001b[0mstep\u001b[0m \u001b[0;32min\u001b[0m \u001b[0mtqdm\u001b[0m\u001b[0;34m(\u001b[0m\u001b[0mrange\u001b[0m\u001b[0;34m(\u001b[0m\u001b[0mnt\u001b[0m\u001b[0;34m)\u001b[0m\u001b[0;34m,\u001b[0m\u001b[0mdesc\u001b[0m\u001b[0;34m=\u001b[0m\u001b[0;34m\"progress\"\u001b[0m\u001b[0;34m,\u001b[0m \u001b[0munit\u001b[0m\u001b[0;34m=\u001b[0m\u001b[0;34m\"step\"\u001b[0m\u001b[0;34m)\u001b[0m\u001b[0;34m:\u001b[0m\u001b[0;34m\u001b[0m\u001b[0;34m\u001b[0m\u001b[0m\n\u001b[0;32m----> 6\u001b[0;31m   \u001b[0mfield\u001b[0m \u001b[0;34m=\u001b[0m \u001b[0madvance_one_step\u001b[0m\u001b[0;34m(\u001b[0m\u001b[0mfield\u001b[0m\u001b[0;34m,\u001b[0m\u001b[0mdx\u001b[0m\u001b[0;34m,\u001b[0m\u001b[0mdy\u001b[0m\u001b[0;34m,\u001b[0m\u001b[0mdt\u001b[0m\u001b[0;34m,\u001b[0m\u001b[0mtheta\u001b[0m\u001b[0;34m)\u001b[0m\u001b[0;34m\u001b[0m\u001b[0;34m\u001b[0m\u001b[0m\n\u001b[0m\u001b[1;32m      7\u001b[0m   \u001b[0mfieldVis\u001b[0m \u001b[0;34m=\u001b[0m \u001b[0mfield\u001b[0m\u001b[0;34m/\u001b[0m\u001b[0mtheta\u001b[0m\u001b[0;34m[\u001b[0m\u001b[0;34m'AR'\u001b[0m\u001b[0;34m]\u001b[0m\u001b[0;34m[\u001b[0m\u001b[0;36m0\u001b[0m\u001b[0;34m:\u001b[0m\u001b[0;36m1\u001b[0m\u001b[0;34m,\u001b[0m\u001b[0;34m:\u001b[0m\u001b[0;34m,\u001b[0m\u001b[0;34m:\u001b[0m\u001b[0;34m]\u001b[0m\u001b[0;34m\u001b[0m\u001b[0;34m\u001b[0m\u001b[0m\n",
            "\u001b[0;31mKeyboardInterrupt\u001b[0m: "
          ]
        }
      ]
    },
    {
      "cell_type": "markdown",
      "source": [
        "# Plot"
      ],
      "metadata": {
        "id": "0AHa7ppjROqP"
      }
    },
    {
      "cell_type": "code",
      "source": [
        "#rho,u,v,Ys,p,a = U_to_prim(field[0:-2],field[-2:])\n",
        "plt.figure(figsize=(10, 4))\n",
        "plt.contourf(X, Y, field[-1], levels=50, cmap='viridis')\n",
        "#plt.clim(0, 4)\n",
        "plt.xlabel('x')\n",
        "plt.ylabel('y')\n",
        "plt.colorbar()\n",
        "plt.tight_layout()\n",
        "plt.axis('equal')\n",
        "plt.show()"
      ],
      "metadata": {
        "id": "tRDCWBe5wcXO",
        "colab": {
          "base_uri": "https://localhost:8080/",
          "height": 401
        },
        "outputId": "95ff0244-fadb-4727-ba07-8479465a1f1f"
      },
      "execution_count": 55,
      "outputs": [
        {
          "output_type": "display_data",
          "data": {
            "text/plain": [
              "<Figure size 1000x400 with 2 Axes>"
            ],
            "image/png": "[encoded data removed]"
          },
          "metadata": {}
        }
      ]
    }
  ]
}