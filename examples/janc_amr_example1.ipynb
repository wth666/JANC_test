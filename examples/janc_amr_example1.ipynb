{
  "nbformat": 4,
  "nbformat_minor": 0,
  "metadata": {
    "colab": {
      "provenance": [],
      "machine_shape": "hm",
      "gpuType": "A100",
      "include_colab_link": true
    },
    "kernelspec": {
      "name": "python3",
      "display_name": "Python 3"
    },
    "language_info": {
      "name": "python"
    },
    "accelerator": "GPU"
  },
  "cells": [
    {
      "cell_type": "markdown",
      "metadata": {
        "id": "view-in-github",
        "colab_type": "text"
      },
      "source": [
        "<a href=\"https://colab.research.google.com/github/JA4S/JANC/blob/main/examples/janc_amr_example1.ipynb\" target=\"_parent\"><img src=\"https://colab.research.google.com/assets/colab-badge.svg\" alt=\"Open In Colab\"/></a>"
      ]
    },
    {
      "cell_type": "markdown",
      "source": [
        "# Install JANC and import relevant libraries"
      ],
      "metadata": {
        "id": "1GjWrTaIj1XX"
      }
    },
    {
      "cell_type": "code",
      "source": [
        "# Copyright © 2025 Haocheng Wen, Faxuan Luo\n",
        "# SPDX-License-Identifier: MIT\n",
        "\n",
        "!pip install git+https://github.com/JA4S/JANC.git\n",
        "!wget https://raw.githubusercontent.com/JA4S/JANC/main/examples/9sp-19r-H2-Air.yaml"
      ],
      "metadata": {
        "id": "rT_l7MPnVxLK"
      },
      "execution_count": null,
      "outputs": []
    },
    {
      "cell_type": "code",
      "source": [
        "from janc.thermodynamics import thermo\n",
        "from janc.solver import solver\n",
        "from jaxamr import amr\n",
        "import jax\n",
        "import jax.numpy as jnp\n",
        "import numpy as np\n",
        "import matplotlib.pyplot as plt\n",
        "from tqdm.auto import tqdm\n",
        "\n",
        "jax.config.update(\"jax_enable_x64\", True)\n",
        "jax.config.update('jax_platform_name', 'gpu')"
      ],
      "metadata": {
        "id": "_koEahVKtbzx"
      },
      "execution_count": null,
      "outputs": []
    },
    {
      "cell_type": "markdown",
      "source": [
        "# Set grid and AMR parameters"
      ],
      "metadata": {
        "id": "-j0XDb_5TIKO"
      }
    },
    {
      "cell_type": "code",
      "source": [
        "Lx = 0.05\n",
        "Ly = 0.0125\n",
        "\n",
        "nx = 2000\n",
        "ny = 500\n",
        "\n",
        "dx = Lx/nx\n",
        "dy = Ly/ny\n",
        "\n",
        "base_grid = {'Lx':Lx,'Ly':Ly,'Nx':nx,'Ny':ny}\n",
        "\n",
        "n_block = [\n",
        "    [1, 1],  # Level 0\n",
        "    [100, 25], # Level 1\n",
        "    [2, 2],  # Level 2\n",
        "    [2, 2],  # Level 3\n",
        "    [2, 2]   # Level 4\n",
        "    ] # x-direction, y-direction\n",
        "\n",
        "template_node_num = 3\n",
        "\n",
        "buffer_num = 5\n",
        "\n",
        "refinement_tolerance = {\n",
        "    'density': 20.0,\n",
        "    'velocity': 0.5\n",
        "}\n",
        "\n",
        "amr_config = {'base_grid':base_grid,\n",
        "        'n_block':n_block,\n",
        "        'template_node_num':template_node_num,\n",
        "        'buffer_num':buffer_num,\n",
        "        'refinement_tolerance':refinement_tolerance\n",
        "}\n",
        "\n",
        "amr.set_amr(amr_config)\n",
        "\n",
        "dx = [dx] # Grid size in refinement levels\n",
        "dy = [dy]\n",
        "for i, (bx, by) in enumerate(n_block[1:], 1):\n",
        "    dx.append(Lx/nx / (2.0**i))\n",
        "    dy.append(Ly/ny / (2.0**i))"
      ],
      "metadata": {
        "id": "qhzjmt-pTLCa"
      },
      "execution_count": null,
      "outputs": []
    },
    {
      "cell_type": "markdown",
      "source": [
        "# Set thermodynamics (thermo & chemical properties) of gas mixture"
      ],
      "metadata": {
        "id": "FJOEcP-ZURO4"
      }
    },
    {
      "cell_type": "code",
      "source": [
        "thermo_config = {'is_detailed_chemistry':True,\n",
        "        'thermo_model':'nasa7',\n",
        "        'mechanism_diretory':'9sp-19r-H2-Air.yaml'}\n",
        "thermo.set_thermo(thermo_config)"
      ],
      "metadata": {
        "id": "MnExYIkRZEdD"
      },
      "execution_count": null,
      "outputs": []
    },
    {
      "cell_type": "markdown",
      "source": [
        "# Set boundary conditions"
      ],
      "metadata": {
        "id": "OX0lkbfYUgR7"
      }
    },
    {
      "cell_type": "code",
      "source": [
        "boundary_config = {'left_boundary':'slip_wall',\n",
        "           'right_boundary':'slip_wall',\n",
        "           'bottom_boundary':'slip_wall',\n",
        "           'up_boundary':'slip_wall'}"
      ],
      "metadata": {
        "id": "N-X7QuszUkcM"
      },
      "execution_count": null,
      "outputs": []
    },
    {
      "cell_type": "markdown",
      "source": [
        "# Initializations"
      ],
      "metadata": {
        "id": "Ne3U2HjSUpzM"
      }
    },
    {
      "cell_type": "code",
      "source": [
        "advance_one_step, rhs = solver.set_solver(thermo_config,boundary_config,solver_mode='amr')\n",
        "advance_one_step_L0, rhs0 = solver.set_solver(thermo_config,boundary_config,solver_mode='base')"
      ],
      "metadata": {
        "id": "20vhi1NKFFSR"
      },
      "execution_count": null,
      "outputs": []
    },
    {
      "cell_type": "code",
      "source": [
        "def initial_conditions():\n",
        "    #nondimensionalize the pressure and tempreature using P0,T0\n",
        "    Penv = 1.0*101325; Tenv = 300; yH2env = 0.028; yO2env = 0.226;\n",
        "    Pignition = 75*101325; Tignition = 3500;\n",
        "    #set the mass fractions for the species (except inert species N2, which leaves 8 species to set)\n",
        "    Yenv = jnp.array([yH2env,yO2env,0,0,0,0,0,0])\n",
        "\n",
        "    #set ignition zone (rectangular shape)\n",
        "    ignition_width = 80\n",
        "    ignition_height = ny\n",
        "    Y_init = jnp.broadcast_to(Yenv[:,None,None],(8,nx,ny))\n",
        "    T_init = jnp.full((1,nx,ny),Tenv)\n",
        "    T_init = T_init.at[:,0:ignition_width,0:ignition_height].set(Tignition)\n",
        "    P_init = jnp.full((1,nx,ny),Penv)\n",
        "    P_init = P_init.at[:,0:ignition_width,0:ignition_height].set(Pignition)\n",
        "    #set ignition zone (circle shape)\n",
        "    temp_x = jnp.linspace(0, nx, nx)\n",
        "    temp_y = jnp.linspace(0, ny, ny)\n",
        "    temp_x, temp_y = jnp.meshgrid(temp_y, temp_x)\n",
        "    radius = ignition_width//2\n",
        "    #three semicircle ignition zone to induce detonation cells\n",
        "    distance_1 = jnp.sqrt((temp_y[None,:,:] - ignition_width)**2 + (temp_x[None,:,:] - ignition_height//4)**2)\n",
        "    distance_2 = jnp.sqrt((temp_y[None,:,:] - ignition_width)**2 + (temp_x[None,:,:] - (ignition_height//4)*2)**2)\n",
        "    distance_3 = jnp.sqrt((temp_y[None,:,:] - ignition_width)**2 + (temp_x[None,:,:] - (ignition_height//4)*3)**2)\n",
        "    mask = (distance_1 <= radius) | (distance_2 <= radius) | (distance_3 <= radius)\n",
        "    T_init = T_init.at[mask].set(Tignition)\n",
        "    P_init = P_init.at[mask].set(Pignition)\n",
        "\n",
        "    #get relevant thermo properties from tempreature and species mass fractions\n",
        "    _,gamma_init,h_init,R_init,_ = thermo.get_thermo(T_init,Y_init)\n",
        "\n",
        "    rho_init = P_init/(R_init*T_init)\n",
        "    E_init = rho_init*h_init - P_init\n",
        "    rhou_init = jnp.zeros((1,nx,ny))\n",
        "    rhov_init = jnp.zeros((1,nx,ny))\n",
        "\n",
        "    #concatenate the conservative variables U, and thermo variables aux(gamma,T)\n",
        "    U_init = jnp.concatenate([rho_init,rhou_init,rhov_init,E_init,rho_init*Y_init],axis=0)\n",
        "    aux_init = jnp.concatenate([gamma_init,T_init],axis=0)\n",
        "    return U_init, aux_init\n",
        "\n",
        "\n",
        "U, aux = initial_conditions()\n",
        "plt.figure(figsize=(36, 7.5))\n",
        "x = jnp.linspace(0, Lx, nx)\n",
        "y = jnp.linspace(0, Ly, ny)\n",
        "X, Y = jnp.meshgrid(x, y, indexing='ij')\n",
        "#Density Contour (Nondimensionalized)\n",
        "plt.contourf(X, Y, U[0], levels=50, cmap='viridis')\n",
        "plt.colorbar()\n",
        "plt.axis('equal')\n",
        "\n",
        "\n",
        "blk_data0 = jnp.concatenate([U,aux],axis=0)[None,:,:,:]\n",
        "\n",
        "blk_info0 = {\n",
        "  'number': 1,\n",
        "  'index': jnp.array([0, 0]),\n",
        "  'glob_index': jnp.array([[0, 0]]),\n",
        "  'neighbor_index': jnp.array([[-1, -1, -1, -1]])}\n"
      ],
      "metadata": {
        "id": "zGECwmZbVFsV"
      },
      "execution_count": null,
      "outputs": []
    },
    {
      "cell_type": "markdown",
      "source": [
        "# AMR Loop"
      ],
      "metadata": {
        "id": "IUI4tAeAYhYt"
      }
    },
    {
      "cell_type": "code",
      "source": [
        "dt = 1e-9  # time step\n",
        "\n",
        "nt = 200 # computation steps\n",
        "\n",
        "amr_update_step = 5 # AMR update steps\n",
        "\n",
        "amr_initialized = False\n",
        "\n",
        "for step in tqdm(range(nt), desc=\"Progress\", unit=\"step\"):\n",
        "\n",
        "    if amr_initialized == False :\n",
        "\n",
        "        blk_data1, blk_info1, max_blk_num1 = amr.initialize(1, blk_data0, blk_info0, 'density', dx[1], dy[1])\n",
        "        blk_data2, blk_info2, max_blk_num2 = amr.initialize(2, blk_data1, blk_info1, 'density', dx[2], dy[2])\n",
        "        blk_data3, blk_info3, max_blk_num3 = amr.initialize(3, blk_data2, blk_info2, 'density', dx[3], dy[3])\n",
        "\n",
        "        amr_initialized = True\n",
        "\n",
        "    elif (step % amr_update_step == 0):\n",
        "        blk_data1, blk_info1, max_blk_num1 = amr.update(1, blk_data0, blk_info0, 'density', dx[1], dy[1], blk_data1, blk_info1, max_blk_num1)\n",
        "        blk_data2, blk_info2, max_blk_num2 = amr.update(2, blk_data1, blk_info1, 'density', dx[2], dy[2], blk_data2, blk_info2, max_blk_num2)\n",
        "        blk_data3, blk_info3, max_blk_num3 = amr.update(3, blk_data2, blk_info2, 'density', dx[3], dy[3], blk_data3, blk_info3, max_blk_num3)\n",
        "\n",
        "\n",
        "    '''Crossover advance'''\n",
        "    for _ in range(2):\n",
        "        for _ in range(2):\n",
        "            for _ in range(2):\n",
        "                blk_data3 = advance_one_step(3, blk_data2, dx[3], dy[3], dt/8.0, blk_data3, blk_info3)\n",
        "            blk_data2 = advance_one_step(2, blk_data1, dx[2], dy[2], dt/4.0, blk_data2, blk_info2)\n",
        "        blk_data1 = advance_one_step(1, blk_data0, dx[1], dy[1], dt/2.0, blk_data1, blk_info1)\n",
        "    blk_data0 = jnp.array([advance_one_step_L0(blk_data0[0], dx[0], dy[0], dt)])\n",
        "\n",
        "\n",
        "    '''Synchronous advance'''\n",
        "    #blk_data3 = solver.rk2(3, blk_data2, dx[3], dy[3], dt/8.0, blk_data3, blk_info3)\n",
        "    #blk_data2 = solver.rk2(2, blk_data1, dx[2], dy[2], dt/8.0, blk_data2, blk_info2)\n",
        "    #blk_data1 = solver.rk2(1, blk_data0, dx[1], dy[1], dt/8.0, blk_data1, blk_info1)\n",
        "    #blk_data0 = solver.rk2_L0(blk_data0, dx[0], dy[0], dt/8.0)\n",
        "\n",
        "    blk_data2 = amr.interpolate_fine_to_coarse(3, blk_data2, blk_data3, blk_info3)\n",
        "    blk_data1 = amr.interpolate_fine_to_coarse(2, blk_data1, blk_data2, blk_info2)\n",
        "    blk_data0 = amr.interpolate_fine_to_coarse(1, blk_data0, blk_data1, blk_info1)\n"
      ],
      "metadata": {
        "id": "jTewFnD9y_sI"
      },
      "execution_count": null,
      "outputs": []
    },
    {
      "cell_type": "markdown",
      "source": [
        "#Visulization"
      ],
      "metadata": {
        "id": "K0I1mlYfp_Xx"
      }
    },
    {
      "cell_type": "code",
      "source": [
        "# Density Contour (Nondimensionalized)\n",
        "plt.figure(figsize=(36, 7.5))\n",
        "ax = plt.gca()\n",
        "from jaxamr import amraux\n",
        "component = 0\n",
        "vmin = jnp.min(blk_data0[:, component])\n",
        "vmax = jnp.max(blk_data0[:, component])\n",
        "vrange = (vmin, vmax)\n",
        "fig = amraux.plot_block_data(blk_data0[:, component], blk_info0, ax, vrange) # Level 0\n",
        "fig = amraux.plot_block_data(blk_data1[:, component], blk_info1, ax, vrange) # Level 1\n",
        "fig = amraux.plot_block_data(blk_data2[:, component], blk_info2, ax, vrange) # Level 2\n",
        "fig = amraux.plot_block_data(blk_data3[:, component], blk_info3, ax, vrange) # Level 3\n",
        "\n",
        "plt.colorbar(fig, ax=ax, label='Density')\n",
        "ax.set_xlabel('X')\n",
        "ax.set_ylabel('Y')\n",
        "plt.axis('equal')\n",
        "plt.show()\n",
        "\n",
        "\n",
        "# AMR Level Contour\n",
        "plt.figure(figsize=(36, 7.5))\n",
        "ax = plt.gca()\n",
        "from jaxamr import amraux\n",
        "component = 0\n",
        "vmin = jnp.min(blk_data0[:, component])\n",
        "vmax = jnp.max(blk_data0[:, component])\n",
        "vrange = (0, 3)\n",
        "fig = amraux.plot_block_data(0*jnp.ones_like(blk_data0[:, component]), blk_info0, ax, vrange) # Level 0\n",
        "fig = amraux.plot_block_data(1*jnp.ones_like(blk_data1[:, component]), blk_info1, ax, vrange) # Level 1\n",
        "fig = amraux.plot_block_data(2*jnp.ones_like(blk_data2[:, component]), blk_info2, ax, vrange) # Level 2\n",
        "fig = amraux.plot_block_data(3*jnp.ones_like(blk_data3[:, component]), blk_info3, ax, vrange) # Level 3\n",
        "\n",
        "plt.colorbar(fig, ax=ax, label='Refinement Level')\n",
        "ax.set_xlabel('X')\n",
        "ax.set_ylabel('Y')\n",
        "plt.axis('equal')\n",
        "plt.show()"
      ],
      "metadata": {
        "id": "hrmv65ba2GR5"
      },
      "execution_count": null,
      "outputs": []
    }
  ]
}